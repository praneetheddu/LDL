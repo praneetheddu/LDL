{
 "cells": [
  {
   "cell_type": "code",
   "execution_count": 2,
   "id": "weekly-detail",
   "metadata": {},
   "outputs": [],
   "source": [
    "# Perceptron function\n",
    "def compute_output(w, x, target_val=1):\n",
    "    '''\n",
    "    w = weight vector\n",
    "    x = input vector\n",
    "    '''\n",
    "    sum = 0.0\n",
    "    for i, j in zip(w, x):\n",
    "        sum += (i*j)\n",
    "    return target_val if sum >= 0 else -target_val "
   ]
  },
  {
   "cell_type": "code",
   "execution_count": 4,
   "id": "annual-affairs",
   "metadata": {},
   "outputs": [
    {
     "name": "stdout",
     "output_type": "stream",
     "text": [
      "-1\n"
     ]
    }
   ],
   "source": [
    "output = compute_output([0.9, -0.6, -0.5] , [1.0, 1.0, 1.0])\n",
    "print(output)s"
   ]
  },
  {
   "cell_type": "code",
   "execution_count": null,
   "id": "acquired-burton",
   "metadata": {},
   "outputs": [],
   "source": []
  }
 ],
 "metadata": {
  "kernelspec": {
   "display_name": "Python 3",
   "language": "python",
   "name": "python3"
  },
  "language_info": {
   "codemirror_mode": {
    "name": "ipython",
    "version": 3
   },
   "file_extension": ".py",
   "mimetype": "text/x-python",
   "name": "python",
   "nbconvert_exporter": "python",
   "pygments_lexer": "ipython3",
   "version": "3.9.2"
  }
 },
 "nbformat": 4,
 "nbformat_minor": 5
}
